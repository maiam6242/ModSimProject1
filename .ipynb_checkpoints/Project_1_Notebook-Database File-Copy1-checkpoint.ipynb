{
 "cells": [
  {
   "cell_type": "markdown",
   "metadata": {},
   "source": [
    "# Population Simulation: Type 1 Diabetes\n",
    "Timothy Novak and Maia Materman\n",
    "\n",
    "The following section of code recreates the population model from the ModSim Notebooks. This code is here primarily for reference."
   ]
  },
  {
   "cell_type": "code",
   "execution_count": null,
   "metadata": {
    "scrolled": true
   },
   "outputs": [],
   "source": [
    "# Configure Jupyter so figures appear in the notebook\n",
    "%matplotlib inline\n",
    "\n",
    "# Configure Jupyter to display the assigned value after an assignment\n",
    "%config InteractiveShell.ast_node_interactivity='last_expr_or_assign'\n",
    "\n",
    "# import functions from the modsim.py module\n",
    "from modsim import *\n",
    "\n",
    "from pandas import read_html\n",
    "def plot_results(timeseries, title):\n",
    "    \"\"\"Plot the estimates and the model.\n",
    "    \n",
    "    census: TimeSeries of population estimates\n",
    "    un: TimeSeries of population estimates\n",
    "    timeseries: TimeSeries of simulation results\n",
    "    title: string\n",
    "    \"\"\"\n",
    "\n",
    "    plot(timeseries, color='gray', label='model')\n",
    "    \n",
    "    decorate(xlabel='Year', \n",
    "             ylabel='World population (billion)',\n",
    "             title=title)\n",
    "def run_simulation(system, update_func):\n",
    "    \"\"\"Simulate the system using any update function.\n",
    "    \n",
    "    system: System object\n",
    "    update_func: function that computes the population next year\n",
    "    \n",
    "    returns: TimeSeries\n",
    "    \"\"\"\n",
    "    results = TimeSeries()\n",
    "    results[system.t_0] = system.p_0\n",
    "    \n",
    "    for t in linrange(system.t_0, system.t_end):\n",
    "        results[t+1] = update_func(results[t], t, system)\n",
    "        \n",
    "    return results\n",
    "\n",
    "def update_func_quad(pop, t, system):\n",
    "    \"\"\"Update population based on a quadratic model.\n",
    "    \n",
    "    pop: current population in billions\n",
    "    t: what year it is\n",
    "    system: system object with model parameters\n",
    "    \"\"\"\n",
    "    net_growth = system.alpha * pop + system.beta * pop**2\n",
    "    return pop + net_growth\n",
    "\n",
    "system = System(t_0=1950, \n",
    "                t_end=2018,\n",
    "                p_0=2.557628654,\n",
    "                alpha=0.025,\n",
    "                beta=-0.0018)\n",
    "results = run_simulation(system, update_func_quad)\n",
    "plot_results(results, 'Quadratic model')\n",
    "savefig('chap04-fig01.pdf')\n",
    "results[system.t_end]"
   ]
  },
  {
   "cell_type": "markdown",
   "metadata": {},
   "source": [
    "## Motivating Question\n",
    "What is the percent of the population which will have type 1 diabetes in 100 years?\n",
    "\n",
    "However, this question is a little bit difficult to find data on, so we specified the question."
   ]
  },
  {
   "cell_type": "markdown",
   "metadata": {},
   "source": [
    "## New Motivating Question\n",
    "\n",
    "What is the percent population of Austria which will have type 1 diabetes in 100 years?\n",
    "\n",
    "We selected Austria because Austria is one of the few countries in the world with comprehensive records on their type 1 diabetic population.\n"
   ]
  },
  {
   "cell_type": "markdown",
   "metadata": {},
   "source": [
    "## Calibrating Population Growth Model to Desired Population\n",
    "The population model can be hand calibrated to represent Austria's population. This means that we first need to create a population vs time graph."
   ]
  },
  {
   "cell_type": "code",
   "execution_count": null,
   "metadata": {},
   "outputs": [],
   "source": [
    "#innitializes the timeseries with the population data on the Austrian population\n",
    "austrian_pop = TimeSeries()\n",
    "austrian_pop[1923] = 6534742\n",
    "austrian_pop[1934] = 6760044\n",
    "austrian_pop[1939] = 6652567\n",
    "austrian_pop[1951] = 6933905\n",
    "austrian_pop[1961] = 7073807\n",
    "austrian_pop[1971] = 7491526\n",
    "austrian_pop[1981] = 7555338\n",
    "austrian_pop[1991] = 7795786\n",
    "austrian_pop[1997] = 8072000\n",
    "austrian_pop[2001] = 8032587\n",
    "austrian_pop[2011] = 8401940\n",
    "austrian_pop[2018] = 8823054"
   ]
  },
  {
   "cell_type": "markdown",
   "metadata": {},
   "source": [
    "Now that we have our original data stored in a series, we can scatterplot our data."
   ]
  },
  {
   "cell_type": "code",
   "execution_count": null,
   "metadata": {},
   "outputs": [],
   "source": [
    "#plot the data\n",
    "plot(austrian_pop, \"*\")\n",
    "#decorate the plot\n",
    "decorate(title = \"Austrian Population Through Time\",\n",
    "         xlabel = \"Year\",\n",
    "         ylabel = \"Population\")"
   ]
  },
  {
   "cell_type": "markdown",
   "metadata": {},
   "source": [
    "Now we can add the logistic population growth model to the data (the logistic regression fit was found by hand)."
   ]
  },
  {
   "cell_type": "code",
   "execution_count": null,
   "metadata": {},
   "outputs": [],
   "source": [
    "#this is the update function and formula from the chapter 7 notebook\n",
    "def update_func_quad1(pop, t, system):\n",
    "    \"\"\"Compute the population next year with a quadratic model with the carrying capacity parameterization.\n",
    "    \n",
    "    pop: current population\n",
    "    t: current year\n",
    "    system: system object containing parameters of the model\n",
    "    \n",
    "    returns: population next year\n",
    "    \"\"\"\n",
    "    #applies the model to calculate the change in population\n",
    "    net_growth = pop*system.max_rate*(1- pop/system.carrying_capacity)\n",
    "    #returns the new population\n",
    "    return pop + net_growth\n",
    "\n",
    "#defines a new system which holds relevant parameters for this model coifficents were found by hand\n",
    "austrian_population_model_sys = System(t_0=1923, \n",
    "                t_end=2018,\n",
    "                p_0=austrian_pop[1923]-220000,\n",
    "                max_rate = .0041,\n",
    "                carrying_capacity = 40000000)\n",
    "#runs a simulation to generate model data using the values imbedded in the system\n",
    "results = run_simulation(austrian_population_model_sys, update_func_quad1)\n",
    "#plots the results\n",
    "plot(results, label = \"Population Model\")\n",
    "#plot the original population data\n",
    "plot(austrian_pop, \"*\", label = \"Population Data\")\n",
    "#decorate the plot\n",
    "decorate(title = \"Austrian Population Through Time\",\n",
    "         xlabel = \"Year\",\n",
    "         ylabel = \"Population\")\n",
    "#adds a legend to the graph\n",
    "legend()"
   ]
  },
  {
   "cell_type": "markdown",
   "metadata": {},
   "source": [
    "For later use we will store the equation as a function. That way we can estimate population values based on the equation."
   ]
  },
  {
   "cell_type": "code",
   "execution_count": null,
   "metadata": {},
   "outputs": [],
   "source": [
    "def Logistic_population_model (year, system):\n",
    "    #This function takes in a year and parameter data and will return a population in that year based on the logistic growth model\n",
    "    #returns the population in the desired year\n",
    "    return system.carrying_capacity/(1+(system.carrying_capacity-system.p_0)/system.p_0*exp(-system.max_rate*year))"
   ]
  },
  {
   "cell_type": "markdown",
   "metadata": {},
   "source": [
    "## Projecting the Data into the Future\n",
    "To answer the motivating question we have to know where the population of Austria will be in 100 years. To estimate, we can project our newly calibrated curve 100 years into the future."
   ]
  },
  {
   "cell_type": "code",
   "execution_count": null,
   "metadata": {},
   "outputs": [],
   "source": [
    "#defines a new system which holds relevant parameters for this model and an end date projected into the future\n",
    "austrian_population_model_sys = System(t_0=1923, \n",
    "                t_end=2118,\n",
    "                p_0=austrian_pop[1923]-220000,\n",
    "                max_rate = .0041,\n",
    "                carrying_capacity = 40000000)\n",
    "#runs a simulation to generate model data using the values imbedded in the system\n",
    "results = run_simulation(austrian_population_model_sys, update_func_quad1)\n",
    "#plots the results\n",
    "plot(results, label = \"Population Model\")\n",
    "#plot the original population data\n",
    "plot(austrian_pop, \"*\", label = \"Population Data\")\n",
    "#decorate the plot\n",
    "decorate(title = \"Austrian Population Through Time\",\n",
    "         xlabel = \"Year\",\n",
    "         ylabel = \"Population\")\n",
    "#adds a legend to the graph\n",
    "legend()"
   ]
  },
  {
   "cell_type": "markdown",
   "metadata": {},
   "source": [
    "## Let's Do It Again for the Population of Austrians with Type 1 Diabetes\n",
    "We can now take the data for the number of Austrians with type 1 diabetes and fit another population curve to this data."
   ]
  },
  {
   "cell_type": "markdown",
   "metadata": {},
   "source": [
    "Here is the population data of individuals with the disorder."
   ]
  },
  {
   "cell_type": "code",
   "execution_count": null,
   "metadata": {},
   "outputs": [],
   "source": [
    "#initializes time series which stores population data (converted into a total number of people with the sickness) of the people with the genetic disorder\n",
    "sick_pop = TimeSeries()\n",
    "sick_pop[1991] = austrian_pop[1991]*9/100000\n",
    "sick_pop[1997] = austrian_pop[1997]*9.9/100000\n",
    "sick_pop[2003] = austrian_pop[2001]*13.3/100000"
   ]
  },
  {
   "cell_type": "markdown",
   "metadata": {},
   "source": [
    "We now need to plot this data.\n"
   ]
  },
  {
   "cell_type": "code",
   "execution_count": null,
   "metadata": {},
   "outputs": [],
   "source": [
    "#plot the data\n",
    "plot(sick_pop, \"*\")\n",
    "#decorate the plot\n",
    "decorate(title = \"Austrian Population with Type 1 Diabetes Through Time\",\n",
    "         xlabel = \"Year\",\n",
    "         ylabel = \"Population\")"
   ]
  },
  {
   "cell_type": "markdown",
   "metadata": {},
   "source": [
    "With this information, we can fit the population curve."
   ]
  },
  {
   "cell_type": "code",
   "execution_count": null,
   "metadata": {},
   "outputs": [],
   "source": [
    "#defines a new system which holds relevant parameters for this model coifficents were found by hand #ADJUST PARAMETERS TODO TODO TODO\n",
    "austrian_population_diabetes_model_sys = System(t_0=1991, \n",
    "                t_end=2003,\n",
    "                p_0=sick_pop[1991]-50,\n",
    "                max_rate = .06,\n",
    "                carrying_capacity = 10000)\n",
    "#runs a simulation to generate model data using the values imbedded in the system\n",
    "results = run_simulation(austrian_population_diabetes_model_sys, update_func_quad1)\n",
    "#plots the results\n",
    "plot(results, label = \"Population Model\")\n",
    "#plot the original population data\n",
    "plot(sick_pop, \"*\", label = \"Population Data\")\n",
    "#decorate the plot\n",
    "decorate(title = \"Austrian population with disorder through time\",\n",
    "         xlabel = \"Year\",\n",
    "         ylabel = \"population\")\n",
    "#adds a legend to the graph\n",
    "legend()"
   ]
  },
  {
   "cell_type": "markdown",
   "metadata": {},
   "source": [
    "And adjust our system to project our results further in time."
   ]
  },
  {
   "cell_type": "code",
   "execution_count": null,
   "metadata": {},
   "outputs": [],
   "source": [
    "#TODO"
   ]
  },
  {
   "cell_type": "markdown",
   "metadata": {},
   "source": [
    "## Calculating the Percent of the Population which has the Disorder\n",
    "Our Model Metric is the percent of the population who have type 1 diabetes. This allows us to compress all of our analysis into one number. We can calculate this by dividing the population of individuals with the disorder by the total population."
   ]
  },
  {
   "cell_type": "code",
   "execution_count": null,
   "metadata": {},
   "outputs": [],
   "source": [
    "percent_sick_population = TimeSeries()\n",
    "#change this code to reference the first & last indexes of the data\n",
    "for counter in linrange(1920,2118,1):\n",
    "    percent_sick_population[counter] = 100* Logistic_population_model(counter,austrian_population_diabetes_model_sys)/Logistic_population_model(counter,austrian_population_model_sys)"
   ]
  },
  {
   "cell_type": "markdown",
   "metadata": {},
   "source": [
    "Now we can plot the results over time."
   ]
  },
  {
   "cell_type": "code",
   "execution_count": null,
   "metadata": {},
   "outputs": [],
   "source": [
    "#plot the data\n",
    "plot(percent_sick_population, \"*\")\n",
    "#decorate the plot\n",
    "decorate(title = \"% Austrian Population with Type 1 Diabetes Through Time\",\n",
    "         xlabel = \"Year\",\n",
    "         ylabel = \"% Population with Type 1 Diabetes\")"
   ]
  },
  {
   "cell_type": "markdown",
   "metadata": {},
   "source": [
    "At this point, we can answer our motivating question! What is the percent of the population which is infected with type 1 diabetes 100 years in the future?"
   ]
  },
  {
   "cell_type": "code",
   "execution_count": null,
   "metadata": {},
   "outputs": [],
   "source": [
    "print(100* Logistic_population_model(2118,austrian_population_diabetes_model_sys)/Logistic_population_model(2118,austrian_population_model_sys))\n",
    "print(\"percent\")"
   ]
  },
  {
   "cell_type": "markdown",
   "metadata": {},
   "source": [
    "So we're done right? Well that was a bit boring wasn't it? So we will make another simulation which is more \"real\"."
   ]
  },
  {
   "cell_type": "markdown",
   "metadata": {},
   "source": [
    "## A Newer and Better Model\n",
    "For our next model we are going to simulate a population by treating it as though it is made of individual people. What this means is that our new model will simulate disorder propogation by breeding people/killing people during each time step and keeping track of the number of individuals with the disorder as dictated by genetic precentages for its transmission."
   ]
  },
  {
   "cell_type": "markdown",
   "metadata": {},
   "source": [
    "A newer and better question:\n",
    "Are genetic factors suficent to explain the recent increase in percent population with type 1 diabeties?"
   ]
  },
  {
   "cell_type": "markdown",
   "metadata": {},
   "source": [
    "### Initial Conditions and System Variable Set Up\n",
    "We first need to look at inital conditions and system inputs."
   ]
  },
  {
   "cell_type": "code",
   "execution_count": null,
   "metadata": {},
   "outputs": [],
   "source": [
    "#Innitialize System with various transmission precentages and innital populations of infected, carrying and non infected individuals\n",
    "system = System(initpop = 6236068, percent_safe_pop =.9653 , percent_carry_pop =.0345, percent_sick_pop = .0002)\n",
    "#create 2d array of transmission rates\n",
    "#the output array is as follows\n",
    "#   MM  Mm  mm\n",
    "#FF.01 .01 .10\n",
    "#Ff.01 .02 .10\n",
    "#ff.04 .04 .14\n",
    "transmission_rates = [[.01,.01,.1],[.01,.02,.1],[.04,.04,.14]]"
   ]
  },
  {
   "cell_type": "markdown",
   "metadata": {},
   "source": [
    "### Setting Up the Initial Populations\n",
    "We will take the each of the initial populations of the group and divide them into two groups on the basis of sex. One is made to represent males and the other is made to represent females. Interestingly enough, the progation rates of the disorder vary by sex of the parents."
   ]
  },
  {
   "cell_type": "code",
   "execution_count": null,
   "metadata": {},
   "outputs": [],
   "source": []
  },
  {
   "cell_type": "markdown",
   "metadata": {},
   "source": [
    "Ok so now we will assume a person can have one of three states:\n",
    "0: A person does not have any of the transmission genes\n",
    "1: A person is a carrier of the disorder but does not have it themselves\n",
    "2: A person has the disorder"
   ]
  },
  {
   "cell_type": "markdown",
   "metadata": {},
   "source": [
    "We will now create an array of males and females which each contain the calculated populations of neutral, carriers, and those with type 1 diabetes. It is important to note that because the population of Austria is quite large it is infeasable to use this approach to simulate each person individually. As a result, each \"person\" in our arrays is representative of one million people."
   ]
  },
  {
   "cell_type": "code",
   "execution_count": null,
   "metadata": {},
   "outputs": [],
   "source": [
    "#create arrays of people\n",
    "female = []\n",
    "male = []\n",
    "import math\n",
    "#divide relative populations by two to find the number of males and females for each group then divide by 100,000 so that each'person in the array is representative of 100000 people\n",
    "for i in range(math.ceil((system.initpop * system.percent_safe_pop)/2/100000)):\n",
    "    female.append(0)\n",
    "    male.append(0)\n",
    "for j in range(math.ceil((system.initpop* system.percent_carry_pop)/2/100000)):\n",
    "    female.append(1)\n",
    "    male.append(1)\n",
    "for k in range(math.ceil((system.initpop* system.percent_sick_pop)/2/100000)):\n",
    "    female.append(2)\n",
    "    male.append(2)"
   ]
  },
  {
   "cell_type": "markdown",
   "metadata": {},
   "source": [
    "When we start accounting for deaths, it will be important that the arrays are randomized."
   ]
  },
  {
   "cell_type": "code",
   "execution_count": null,
   "metadata": {},
   "outputs": [],
   "source": [
    "#scramble the arrays with .shuffle()\n",
    "#TODO"
   ]
  },
  {
   "cell_type": "markdown",
   "metadata": {},
   "source": [
    "### Breeding Algorithm\n",
    "For each time step we will need to breed our population. For this reason, we need to create a breeding algorithm. We will assume that each male has an equal chance of being paired with any female. So we will start by picking a random male and a random female."
   ]
  },
  {
   "cell_type": "code",
   "execution_count": null,
   "metadata": {},
   "outputs": [],
   "source": [
    "#generate a random male and a random female\n",
    "#TODO"
   ]
  },
  {
   "cell_type": "markdown",
   "metadata": {},
   "source": [
    "Now we will mate the individuals. We assume that one person will be formed from every couple. We then use the flip function to determine whether the child has the disorder, is a carrier, or has no relation to the disorder. We found these values from research on type 1 diabetes. We also assume that there is an equal probability of the child being either male or female."
   ]
  },
  {
   "cell_type": "code",
   "execution_count": null,
   "metadata": {},
   "outputs": [],
   "source": [
    "#generate a child and assign a trait to it and append it to the relevant array\n",
    "#TODO"
   ]
  },
  {
   "cell_type": "markdown",
   "metadata": {},
   "source": [
    "That breeding function is the heart of our model. At this point, it makes sense to encapsulate it into a mate function."
   ]
  },
  {
   "cell_type": "code",
   "execution_count": null,
   "metadata": {},
   "outputs": [],
   "source": [
    "#encapsulate the code above into a function\n",
    "#TODO"
   ]
  },
  {
   "cell_type": "markdown",
   "metadata": {},
   "source": [
    "### Time Step\n",
    "Now we can start making our update function which gets run every time step. At the start of our time step we want to generate a number of babies which correlates to the growth rate of the population."
   ]
  },
  {
   "cell_type": "code",
   "execution_count": null,
   "metadata": {},
   "outputs": [],
   "source": [
    "#make a loop which generates a number of kids by running it in proportion to the growthrate + death rate\n",
    "#TODO"
   ]
  },
  {
   "cell_type": "markdown",
   "metadata": {},
   "source": [
    "Before we go on, it is important to note that on the previous code, we generate children equal to the growth rate + the death rate because the growth rate in the graph is actually the net growth rate (living people - dead people). This is necessary to consider when we make new people.\n",
    "\n",
    "This seems good, we are generating new babies, but this falls into the problem that our very first model of population tis semester fell into: it assumes a constant growth rate. so we need to write another function which retrieves a growthrate from our total austrian population model from earlier."
   ]
  },
  {
   "cell_type": "code",
   "execution_count": null,
   "metadata": {},
   "outputs": [],
   "source": [
    "#Growth rate retrieval function\n",
    "#TODO"
   ]
  },
  {
   "cell_type": "markdown",
   "metadata": {},
   "source": [
    "Ok now there is just one more idea we need to account for in our time step: The people that die off. We need to kill off people in the population equal in number to what the death rate predicts."
   ]
  },
  {
   "cell_type": "code",
   "execution_count": null,
   "metadata": {},
   "outputs": [],
   "source": [
    "#Handel Death rate\n",
    "#TODO"
   ]
  },
  {
   "cell_type": "markdown",
   "metadata": {},
   "source": [
    "You might notice that we are handeling these deaths in an odd way, by explicitly killing off the people from the begining of the array. This is because it creates population turn over. New babies are added to one end of the array and the other end of the array has the old die off. This then means that as a baby gets older it will get cycled through the array untill it dies at the other end.This keeps the population from becoming stagnant when the growth rate lessens towards the carrying capacity."
   ]
  },
  {
   "cell_type": "markdown",
   "metadata": {},
   "source": [
    "Well we can now calculate the percent of the population which is infected by dividing the number of infected individuals by the total population (found as the sum of males and females in the population). We can also encapsulate the function at the end of this into an update function."
   ]
  },
  {
   "cell_type": "code",
   "execution_count": null,
   "metadata": {},
   "outputs": [],
   "source": [
    "#make percent population calculation and encapsulate update function\n",
    "#TODO"
   ]
  },
  {
   "cell_type": "markdown",
   "metadata": {},
   "source": [
    "### Run simulation\n",
    "We can now make a pretty standard run simulation function which retuns a time series with "
   ]
  },
  {
   "cell_type": "code",
   "execution_count": null,
   "metadata": {},
   "outputs": [],
   "source": [
    "#Run simulation function which retuns a time Series\n",
    "#TODO"
   ]
  },
  {
   "cell_type": "markdown",
   "metadata": {},
   "source": [
    "### Results\n",
    "Ok so lets get some results. We can plot the percent population which is infected over time."
   ]
  },
  {
   "cell_type": "code",
   "execution_count": null,
   "metadata": {},
   "outputs": [],
   "source": [
    "#Plot of percent infected over time\n",
    "#TODO"
   ]
  },
  {
   "cell_type": "markdown",
   "metadata": {},
   "source": [
    "We can also calculate the answer to our motivating question."
   ]
  },
  {
   "cell_type": "code",
   "execution_count": null,
   "metadata": {},
   "outputs": [],
   "source": [
    "#calculate the answer to the motivating question\n",
    "#TODO"
   ]
  },
  {
   "cell_type": "markdown",
   "metadata": {},
   "source": [
    "### Comaprason of data and results\n",
    "An interesting result of having made two different models is that we can compare them against each other."
   ]
  },
  {
   "cell_type": "code",
   "execution_count": null,
   "metadata": {},
   "outputs": [],
   "source": [
    "#Comparason stuffs\n",
    "#Todo"
   ]
  },
  {
   "cell_type": "markdown",
   "metadata": {},
   "source": [
    "### Interpretation\n",
    "Lets Interpret things!"
   ]
  },
  {
   "cell_type": "code",
   "execution_count": null,
   "metadata": {},
   "outputs": [],
   "source": [
    "#interpretation\n",
    "#TODO"
   ]
  }
 ],
 "metadata": {
  "kernelspec": {
   "display_name": "Python 3",
   "language": "python",
   "name": "python3"
  },
  "language_info": {
   "codemirror_mode": {
    "name": "ipython",
    "version": 3
   },
   "file_extension": ".py",
   "mimetype": "text/x-python",
   "name": "python",
   "nbconvert_exporter": "python",
   "pygments_lexer": "ipython3",
   "version": "3.6.6"
  }
 },
 "nbformat": 4,
 "nbformat_minor": 2
}
