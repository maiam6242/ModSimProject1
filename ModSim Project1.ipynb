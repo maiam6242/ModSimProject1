{
 "cells": [
  {
   "cell_type": "markdown",
   "metadata": {},
   "source": [
    "This is a test notebook"
   ]
  },
  {
   "cell_type": "code",
   "execution_count": 6,
   "metadata": {},
   "outputs": [
    {
     "data": {
      "text/plain": [
       "'Data of Austria:\\n    Standardised incidence per 100000 people \\n    9·0 for 1989-1993;\\n    9·9 for 1994-1998; \\n    13·3 for 1999-2003\\n'"
      ]
     },
     "execution_count": 6,
     "metadata": {},
     "output_type": "execute_result"
    }
   ],
   "source": [
    "from pandas import read_html\n",
    "from modsim import *\n",
    "\"\"\"Data of Austria:\n",
    "    Standardised incidence per 100000 people \n",
    "    9·0 for 1989-1993;\n",
    "    9·9 for 1994-1998; \n",
    "    13·3 for 1999-2003\n",
    "\"\"\""
   ]
  },
  {
   "cell_type": "code",
   "execution_count": 8,
   "metadata": {},
   "outputs": [],
   "source": [
    "#innitializes time series which stores austrian population data\n",
    "austrian_pop = TimeSeries()\n",
    "austrian_pop[1923] = 6534742\n",
    "austrian_pop[1934] = 6760044\n",
    "austrian_pop[1939] = 6652567\n",
    "austrian_pop[1951] = 6933905\n",
    "austrian_pop[1961] = 7073807\n",
    "austrian_pop[1971] = 7491526\n",
    "austrian_pop[1981] = 7555338\n",
    "austrian_pop[1991] = 7795786\n",
    "austrian_pop[2001] = 8032587\n",
    "austrian_pop[2011] = 8401940\n",
    "austrian_pop[2018] = 8823054\n"
   ]
  },
  {
   "cell_type": "code",
   "execution_count": 10,
   "metadata": {},
   "outputs": [
    {
     "data": {
      "text/plain": [
       "[<matplotlib.lines.Line2D at 0x2db24496f28>]"
      ]
     },
     "execution_count": 10,
     "metadata": {},
     "output_type": "execute_result"
    },
    {
     "data": {
      "image/png": "[encoded data removed]",
      "text/plain": [
       "<Figure size 432x288 with 1 Axes>"
      ]
     },
     "metadata": {},
     "output_type": "display_data"
    }
   ],
   "source": [
    "#plot the data\n",
    "plot(austrian_pop, \"*\")\n"
   ]
  },
  {
   "cell_type": "code",
   "execution_count": null,
   "metadata": {},
   "outputs": [],
   "source": []
  },
  {
   "cell_type": "code",
   "execution_count": null,
   "metadata": {},
   "outputs": [],
   "source": []
  }
 ],
 "metadata": {
  "kernelspec": {
   "display_name": "Python 3",
   "language": "python",
   "name": "python3"
  },
  "language_info": {
   "codemirror_mode": {
    "name": "ipython",
    "version": 3
   },
   "file_extension": ".py",
   "mimetype": "text/x-python",
   "name": "python",
   "nbconvert_exporter": "python",
   "pygments_lexer": "ipython3",
   "version": "3.6.6"
  }
 },
 "nbformat": 4,
 "nbformat_minor": 2
}
