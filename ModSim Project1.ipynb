{
 "cells": [
  {
   "cell_type": "code",
   "execution_count": null,
   "metadata": {},
   "outputs": [],
   "source": [
    "This is a test notebook"
   ]
  },
  {
   "cell_type": "code",
   "execution_count": 3,
   "metadata": {},
   "outputs": [
    {
     "data": {
      "text/plain": [
       "'Data of Austria:\\n    Standardised incidence per 100000 people \\n    9·0 for 1989-1993;\\n    9·9 for 1994-1998; \\n    13·3 for 1999-2003\\n'"
      ]
     },
     "execution_count": 3,
     "metadata": {},
     "output_type": "execute_result"
    }
   ],
   "source": [
    "from pandas import read_html\n",
    "\"\"\"Data of Austria:\n",
    "    Standardised incidence per 100000 people \n",
    "    9·0 for 1989-1993;\n",
    "    9·9 for 1994-1998; \n",
    "    13·3 for 1999-2003\n",
    "\"\"\""
   ]
  },
  {
   "cell_type": "code",
   "execution_count": 22,
   "metadata": {},
   "outputs": [
    {
     "name": "stdout",
     "output_type": "stream",
     "text": [
      "[[0, 7], [0, 0], [0, 0], [0, 0], [0, 0], [0, 0], [0, 0], [0, 0], [0, 0], [0, 0], [0, 0]]\n",
      "[[1923, 6534742], [1934, 6760044], [1939, 6652567], [1951, 6933905], [1961, 7073807], [1971, 7491526], [1981, 7555338], [1991, 7795786], [2001, 8032587], [2011, 8401940], [2018, 8823054]]\n"
     ]
    }
   ],
   "source": [
    "w, h = 2, 11;\n",
    "pop = [[0 for x in range(w)] for y in range(h)] \n",
    "\n",
    "pop[0][0] = 1923\n",
    "pop[0][1] = 6534742\n",
    "pop[1][0] = 1934\n",
    "pop[1][1] = 6760044\n",
    "pop[2][0] = 1939\n",
    "pop[2][1] = 6652567\n",
    "pop[3][0] = 1951\n",
    "pop[3][1] = 6933905\n",
    "pop[4][0] = 1961\n",
    "pop[4][1] = 7073807\n",
    "pop[5][0] = 1971\n",
    "pop[5][1] = 7491526\n",
    "pop[6][0] = 1981\n",
    "pop[6][1] = 7555338\n",
    "pop[7][0] = 1991\n",
    "pop[7][1] = 7795786\n",
    "pop[8][0] = 2001\n",
    "pop[8][1] = 8032587\n",
    "pop[9][0] = 2011\n",
    "pop[9][1] = 8401940\n",
    "pop[10][0] = 2018\n",
    "pop[10][1] =8823054\n",
    "print(pop)"
   ]
  },
  {
   "cell_type": "code",
   "execution_count": null,
   "metadata": {},
   "outputs": [],
   "source": []
  }
 ],
 "metadata": {
  "kernelspec": {
   "display_name": "Python 3",
   "language": "python",
   "name": "python3"
  },
  "language_info": {
   "codemirror_mode": {
    "name": "ipython",
    "version": 3
   },
   "file_extension": ".py",
   "mimetype": "text/x-python",
   "name": "python",
   "nbconvert_exporter": "python",
   "pygments_lexer": "ipython3",
   "version": "3.6.6"
  }
 },
 "nbformat": 4,
 "nbformat_minor": 2
}
