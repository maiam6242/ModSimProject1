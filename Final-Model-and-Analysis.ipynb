{
 "cells": [
  {
   "cell_type": "markdown",
   "metadata": {},
   "source": [
    "# Population Simulation: Type 1 Diabetes\n",
    "Timothy Novak and Maia Materman\n",
    "\n",
    "Modeling and Simulation of the Physical World: Project 1: Population\n",
    "\n",
    "September 2018"
   ]
  },
  {
   "cell_type": "markdown",
   "metadata": {},
   "source": [
    "# General Population Model\n",
    "The following selection of code creates a standard population model which models world population growth based on known census data. This model serves primarily as a reference for what the entire class, Modeling and Simulation of the Physical World, has completed up to this point. The model also serves to inform the Type 1 Diabetes model with an estimated population growth rate."
   ]
  },
  {
   "cell_type": "code",
   "execution_count": 2,
   "metadata": {
    "scrolled": false
   },
   "outputs": [
    {
     "name": "stdout",
     "output_type": "stream",
     "text": [
      "Saving figure to file World_Population_Logistic_Growth_Model.pdf\n"
     ]
    },
    {
     "data": {
      "image/png": "[encoded data removed]",
      "text/plain": [
       "<Figure size 432x288 with 1 Axes>"
      ]
     },
     "metadata": {},
     "output_type": "display_data"
    }
   ],
   "source": [
    "# Configure Jupyter so figures appear in the notebook\n",
    "%matplotlib inline\n",
    "\n",
    "# Configure Jupyter to display the assigned value after an assignment\n",
    "%config InteractiveShell.ast_node_interactivity='last_expr_or_assign'\n",
    "\n",
    "# import code libraries\n",
    "from modsim import *\n",
    "import random\n",
    "import math\n",
    "from pandas import read_html\n",
    "\n",
    "#A function which runs a simulation of population growth.\n",
    "#This function takes in a system of innital values, and a function which will update the curent state of the model from one time step to the next.\n",
    "#this function returns a time series where each entry is the world population at a given time.\n",
    "def run_population_growth_simulation(system, update_func):\n",
    "\n",
    "    #configures the time series which will be returned and sets the inital value.\n",
    "    results = TimeSeries()\n",
    "    results[system.t_0] = system.p_0\n",
    "    \n",
    "    #loops through all the time steps in the simulation\n",
    "    for t in linrange(system.t_0, system.t_end):\n",
    "        \n",
    "        #runs a step of the simulation and appends the total world population to the return values\n",
    "        results[t+1] = update_func(results[t], t, system)\n",
    "        \n",
    "    #returns the results of the simulation\n",
    "    return results\n",
    "\n",
    "#this is a function which simulates one time step of a logistic population model\n",
    "#it takes arguments of the current population, current time, and system of model parameters\n",
    "#it returns the new population\n",
    "def update_func_logistic(pop, t, system):\n",
    "\n",
    "    #calculates the growth in the population between two time steps\n",
    "    net_growth = system.alpha * pop + system.beta * pop**2\n",
    "    \n",
    "    #returns the new population\n",
    "    return pop + net_growth\n",
    "\n",
    "#declares the system of model parameters\n",
    "population_growth_system = System(t_0=1950, \n",
    "                t_end=2018,\n",
    "                p_0=2.557628654,\n",
    "                alpha=0.025,\n",
    "                beta=-0.0018)\n",
    "\n",
    "#runs a simulation of the population\n",
    "population_growth_results = run_population_growth_simulation(population_growth_system, update_func_logistic)\n",
    "\n",
    "#plots the results\n",
    "plot(population_growth_results, color='gray', label = \"population\")\n",
    "    \n",
    "#Adds labels to the graph\n",
    "decorate(xlabel='Year', \n",
    "         ylabel='World population (billion)',\n",
    "         title=\"World Population Logistic Growth Model\")\n",
    "\n",
    "#saves the figure to a file on the computer\n",
    "savefig('World_Population_Logistic_Growth_Model.pdf')"
   ]
  },
  {
   "cell_type": "markdown",
   "metadata": {},
   "source": [
    "### Motivating Question for Diabetes Model:\n",
    "The requirements of the class project explained that the model must deal with population and perform meaningful work. We found that Type 1 Diabetes propagation in a population would be interesting to study. Recently there has been an uptrend, of unknown cause, in the proportion of the population which has Type 1 Diabetes. This model serves to investigate whether genetic propagation of the disorder is suficent to explain the observed behavior."
   ]
  },
  {
   "cell_type": "markdown",
   "metadata": {},
   "source": [
    "### Initial Conditions and System Variable Set Up\n",
    "We first need to look at initial conditions and system inputs."
   ]
  },
  {
   "cell_type": "code",
   "execution_count": 34,
   "metadata": {},
   "outputs": [
    {
     "data": {
      "text/plain": [
       "[[0.01, 0.01, 0.1], [0.01, 0.02, 0.1], [0.04, 0.04, 0.14]]"
      ]
     },
     "execution_count": 34,
     "metadata": {},
     "output_type": "execute_result"
    }
   ],
   "source": [
    "#Initialize System with various transmission rates and initial populations of type 1 diabetics, carrying and neutral individuals\n",
    "system = System(initpop = 6236068, safe_pop_rate =.9653 , carry_pop_rate =.0345, sick_pop_rate = .0002, death_rate = .0074)\n",
    "state = State(year = 2018)\n",
    "#create 2d array of transmission rates\n",
    "#the output array is as follows\n",
    "#   MM  Mm  mm\n",
    "#FF.01 .01 .10\n",
    "#Ff.01 .02 .10\n",
    "#ff.04 .04 .14\n",
    "transmission_rates = [[.01,.01,.1],[.01,.02,.1],[.04,.04,.14]]"
   ]
  },
  {
   "cell_type": "markdown",
   "metadata": {},
   "source": [
    "### Setting Up the Initial Populations\n",
    "We will take the each of the initial populations of the group and divide them into two groups on the basis of sex. One is made to represent males and the other is made to represent females. Interestingly enough, the propagation rates of the disorder vary by sex of the parents.\n",
    "\n",
    "We will now assign each human one of three states:\n",
    "\n",
    "0: A person who does not have any of the transmission genes \n",
    "\n",
    "1: A person who is a carrier of the disorder but does not have it \n",
    "\n",
    "2: A person who has the disorder"
   ]
  },
  {
   "cell_type": "code",
   "execution_count": 35,
   "metadata": {},
   "outputs": [],
   "source": [
    "#create arrays of people\n",
    "female = []\n",
    "male = []\n",
    "people_per_array_person = 1000\n",
    "#divide relative populations by two to find the number of males and females for each group then divide by 100,000 so that each person in the array is representative of 100,000 people\n",
    "# print(\"initpop: \", system.initpop)\n",
    "# print(\"sick rate = \", system.sick_pop_rate)\n",
    "healthy = math.ceil((system.initpop * system.safe_pop_rate)/2/people_per_array_person)\n",
    "carrier = math.ceil((system.initpop* system.carry_pop_rate)/2/people_per_array_person)\n",
    "sick = math.ceil((system.initpop* system.sick_pop_rate)/2/people_per_array_person)\n",
    "# print(\"HCS: \", healthy, carrier, sick)\n",
    "for i in range(healthy):\n",
    "    female.append(0)\n",
    "    male.append(0)\n",
    "for j in range(carrier):\n",
    "    female.append(1)\n",
    "    male.append(1)\n",
    "for k in range(sick):\n",
    "    female.append(2)\n",
    "    male.append(2)"
   ]
  },
  {
   "cell_type": "markdown",
   "metadata": {},
   "source": [
    "It is important to note that to conserve memory and time when running simulations, each 'person' in the arrays is representative of 1000 people.\n",
    "When we start accounting for deaths, it will be important that the arrays are randomized."
   ]
  },
  {
   "cell_type": "code",
   "execution_count": 36,
   "metadata": {},
   "outputs": [],
   "source": [
    "#scramble the arrays\n",
    "random.shuffle(female)\n",
    "random.shuffle(male)"
   ]
  },
  {
   "cell_type": "markdown",
   "metadata": {},
   "source": [
    "### Breeding Algorithm\n",
    "For each time step we will need to breed our population. For this reason, we need to create a breeding algorithm. We will assume that each male has an equal chance of being paired with any female. So we will start by picking a random male and a random female."
   ]
  },
  {
   "cell_type": "code",
   "execution_count": 37,
   "metadata": {},
   "outputs": [
    {
     "data": {
      "text/plain": [
       "0"
      ]
     },
     "execution_count": 37,
     "metadata": {},
     "output_type": "execute_result"
    }
   ],
   "source": [
    "#generate a random male and a random female\n",
    "randommale = male[random.randint(0,len(male))]\n",
    "randomfemale = female[random.randint(0,len(female))]"
   ]
  },
  {
   "cell_type": "markdown",
   "metadata": {},
   "source": [
    "Now, we will mate the individuals. We assume that one person will be formed from every couple. We then use the flip function to determine whether the child has the disorder, is a carrier, or has no relation to the disorder. We found the values which we put in our flip function from research on type 1 diabetes. We also assume that there is an equal probability of the child being either male or female."
   ]
  },
  {
   "cell_type": "code",
   "execution_count": 38,
   "metadata": {},
   "outputs": [],
   "source": [
    "#generate a child and assign a trait to it and append it to the relevant array\n",
    "# print(female,male)\n",
    "child = 0\n",
    "#apply transmission rates\n",
    "if flip(transmission_rates[randomfemale][randommale]):\n",
    "    child = 2\n",
    "elif flip(system.carry_pop_rate):\n",
    "    child = 1\n",
    "else:\n",
    "    child = 0\n",
    "#assign sex\n",
    "if flip(.5):\n",
    "    female.append(child)\n",
    "else:\n",
    "    male.append(child)"
   ]
  },
  {
   "cell_type": "markdown",
   "metadata": {},
   "source": [
    "That breeding function is the heart of our model. At this point, it makes sense to encapsulate it into a mate function."
   ]
  },
  {
   "cell_type": "code",
   "execution_count": 39,
   "metadata": {},
   "outputs": [],
   "source": [
    "#encapsulate the code above into a function\n",
    "def mate (system, state, male, female, transmission_rates):\n",
    "    \"This function performs a random mating algorithm which mates one male and one female. It takes a system variable which stores percent carrying rate for a genitic disorder. male and female are arrays which store the population of males and females in the simulation. Transmission rates is a 3X3 matrix which holds the relative propagation rates of various pairings of parents\"\n",
    "    #generate a random male and a random female\n",
    "    randommale = male[random.randint(0,len(male)-1)]\n",
    "    randomfemale = female[random.randint(0,len(female)-1)]\n",
    "    #generate a child and assign a trait to it and append it to the relevant array\n",
    "    \n",
    "    child = 0\n",
    "    #apply the transmission rates\n",
    "    if flip(transmission_rates[randomfemale][randommale]):\n",
    "        child = 2\n",
    "    elif flip(system.carry_pop_rate):\n",
    "        child = 1\n",
    "    else:\n",
    "        child = 0\n",
    "    #make sex\n",
    "    if flip(.5):\n",
    "        female.append(child)\n",
    "    else:\n",
    "        male.append(child)\n",
    "   # print (female)\n",
    "    #print (male)\n",
    "    \n",
    "#mate (system, state, male, female, transmission_rates)"
   ]
  },
  {
   "cell_type": "markdown",
   "metadata": {},
   "source": [
    "### Time Step\n",
    "Now we can start making our update function that gets run every time step. At the start of our time step we want to generate a number of babies which correlates to the growth rate of the population."
   ]
  },
  {
   "cell_type": "code",
   "execution_count": 40,
   "metadata": {},
   "outputs": [],
   "source": [
    "growthrate = .01\n",
    "#make a loop which generates a number of kids by running it in proportion to the growthrate + death rate\n",
    "for growthcounter in range(math.ceil((growthrate + system.death_rate)*(len(male)+len(female)))):\n",
    "    \n",
    "    #perform breeding algorithm\n",
    "    mate (system, state, male, female, transmission_rates)\n"
   ]
  },
  {
   "cell_type": "markdown",
   "metadata": {},
   "source": [
    "Before we go on, it is important to note that in the previous code, we generate children equal to the growth rate + the death rate because the growth rate is actually the net growth rate (living people - dead people). This is necessary to consider when we make new people.\n",
    "\n",
    "Although this seems good, it falls into the problem that our very first model of population this semester fell into: it assumes a constant growth rate. For this reason, we need to write another function which retrieves a growth rate."
   ]
  },
  {
   "cell_type": "code",
   "execution_count": 47,
   "metadata": {},
   "outputs": [],
   "source": [
    "#Growth rate retrieval function\n",
    "def retrieverate(year, results, population_growth_system):\n",
    "    \"this model takes in the results from the original population model and the curent year and will return the net growth rate between the supplied year and the previous year.\"\n",
    "    #checks if it is the first year in the series\n",
    "    if year == population_growth_system.t_0 or year > population_growth_system.t_end:\n",
    "        #returns a null condition that signifies that an invalid year was inputted\n",
    "         return 0\n",
    "    #if it is a valid year\n",
    "    elif year <= population_growth_system.t_end:\n",
    "        #returns the net growth from the previous year\n",
    "        #print(\"Growth rate:\", (results[year]- results[year-1])/results[year-1])\n",
    "        return ((results[year]- results[year-1])/results[year-1])\n",
    "    else:\n",
    "        return 0\n",
    "   "
   ]
  },
  {
   "cell_type": "markdown",
   "metadata": {},
   "source": [
    "Now that we are here, there is just one more idea we need to account for in our time step: the fact that people that die off. We need to kill off people in the population according to what the death rate predicts."
   ]
  },
  {
   "cell_type": "code",
   "execution_count": 42,
   "metadata": {},
   "outputs": [],
   "source": [
    "#loops through the death rate\n",
    "for deathcounter in range(math.ceil(system.death_rate*(len(female)+len(male)))):\n",
    "    #if the member to be deleted is one with type 1 diabetes\n",
    "    if flip(.5):\n",
    "        del female[0]\n",
    "    else:\n",
    "        del male[0]"
   ]
  },
  {
   "cell_type": "markdown",
   "metadata": {},
   "source": [
    "You might notice that we are handling these deaths in an odd way, by explicitly killing off the people from the begining of the array. This is because it creates population turn over. New babies are added to one end of the array and the other end of the array has the old die off. This then means that as a baby gets older it will get cycled through the array until it dies at the other end.This keeps the population from becoming stagnant when the growth rate lessens towards the carrying capacity."
   ]
  },
  {
   "cell_type": "markdown",
   "metadata": {},
   "source": [
    "Well we can now calculate the percent of the population which has the disorder by dividing the number of diabetic individuals by the total population found as the sum of the male and female arrays. We can also encapsulate the function at the end of this into an update function."
   ]
  },
  {
   "cell_type": "code",
   "execution_count": 43,
   "metadata": {},
   "outputs": [],
   "source": [
    "#makes the percent population calculation and print it\n",
    "\n",
    "def num_sick(male,female):\n",
    "    sickcounter = 0\n",
    "    total = 0\n",
    "    for malecounter in male:\n",
    "        total += 1\n",
    "        if malecounter == 2:\n",
    "            sickcounter +=1\n",
    "    for femalecounter in female:\n",
    "        total += 1\n",
    "        if femalecounter == 2:\n",
    "            sickcounter += 1\n",
    "    #print(total, len(male), len(female), sickcounter)\n",
    "    return sickcounter\n",
    "        \n",
    "\n",
    "#Encapsulates everything into an update function\n",
    "def update(system, state, year, population_growth_system, population_growth_results, male, female, transmission_rates):\n",
    "    gr = retrieverate(year, population_growth_results, population_growth_system)\n",
    "    #print(\"GR: \", gr)\n",
    "    for r in range(0, (math.ceil((gr + system.death_rate) * (len(male))))):\n",
    "        mate(system, state, male, female, transmission_rates)\n",
    "            \n",
    "    for deathcounter in range(math.ceil(system.death_rate*(len(female)+len(male)))):\n",
    "        #if the member to be deleted is one with type 1 diabetes\n",
    "        if flip(.5):\n",
    "            del female[0]\n",
    "        else:\n",
    "            del male[0]\n",
    "    state.year = year +1\n",
    "    #print(\"Num sick:\", num_sick(male, female))\n",
    "    return (num_sick(male,female)/(len(female)+len(male)))"
   ]
  },
  {
   "cell_type": "markdown",
   "metadata": {},
   "source": [
    "### Run simulation\n",
    "We can now make a pretty standard run simulation function which retuns a time series of percent populations"
   ]
  },
  {
   "cell_type": "code",
   "execution_count": 44,
   "metadata": {},
   "outputs": [],
   "source": [
    "#Run simulation function which retuns a time series\n",
    "def run_genetic_disorder_sim(start_year, end_year, init_local_population):\n",
    "    #creates a system which holds the values for the global population\n",
    "    population_growth_system = System(t_0=start_year, \n",
    "                                      t_end=end_year,\n",
    "                                      p_0=2.557628654,\n",
    "                                      alpha=0.025,\n",
    "                                      beta=-0.0018)\n",
    "    #generates the population growth model for the entire population\n",
    "    population_growth_results = run_population_growth_simulation(population_growth_system, update_func_quad)\n",
    "    \n",
    "    #Initialize System with various transmission percentages and initial populations of type 1 diabetics, carrying and neutral individuals\n",
    "    genetic_system = System(initpop = init_local_population, safe_pop_rate =.92 , carry_pop_rate =.05, sick_pop_rate = .03, death_rate = .0074)\n",
    "    genetic_state = State(sickcounter = 0, year = start_year)\n",
    "    #create 2d array of transmission rates\n",
    "    #the output array is as follows\n",
    "    #   MM  Mm  mm\n",
    "    #FF.01 .02 .10\n",
    "    #Ff.02 .04 .20\n",
    "    #ff.04 .08 .40\n",
    "    transmission_rates = [[.01,.02,.1],[.02,.04,.2],[.04,.08,.40]]\n",
    "    \n",
    "    #create arrays of people\n",
    "    female = []\n",
    "    male = []\n",
    "    people_per_array_person = 100000\n",
    "    #divide relative populations by two to find the number of males and females for each group then divide by 100,000 so that each person in the array is representative of 100,000 people\n",
    "    healthy = int((genetic_system.initpop * genetic_system.safe_pop_rate)/2/people_per_array_person)\n",
    "    carrier = int((genetic_system.initpop* genetic_system.carry_pop_rate)/2/people_per_array_person)\n",
    "    sick = int((genetic_system.initpop* genetic_system.sick_pop_rate)/2/people_per_array_person)\n",
    "    #print (\"HCS: \", healthy, carrier, sick)\n",
    "    for i in range(healthy):\n",
    "        female.append(0)\n",
    "        male.append(0)\n",
    "    for j in range(carrier):\n",
    "        female.append(1)\n",
    "        male.append(1)\n",
    "    for k in range(sick):\n",
    "        female.append(2)\n",
    "        male.append(2)\n",
    "        \n",
    "    population_with_disorder_rate = TimeSeries()\n",
    "    #print(num_sick(male,female)/(len(male)+len(female)))\n",
    "    for t in linrange(genetic_state.year, population_growth_system.t_end, 1):\n",
    "        population_with_disorder_rate[t] = update(genetic_system, genetic_state,t, population_growth_system, population_growth_results, male, female, transmission_rates)\n",
    "    #print(percent_population_with_disorder[population_growth_system.t_0])\n",
    "    return population_with_disorder_rate"
   ]
  },
  {
   "cell_type": "markdown",
   "metadata": {},
   "source": [
    "### Results\n",
    "We can now get some results. We can plot the percent population which is diabetic over time."
   ]
  },
  {
   "cell_type": "code",
   "execution_count": 45,
   "metadata": {},
   "outputs": [
    {
     "name": "stdout",
     "output_type": "stream",
     "text": [
      "Saving figure to file diabetic_percent.pdf\n"
     ]
    },
    {
     "data": {
      "image/png": "[encoded data removed]",
      "text/plain": [
       "<Figure size 432x288 with 1 Axes>"
      ]
     },
     "metadata": {},
     "output_type": "display_data"
    }
   ],
   "source": [
    "#Plots of percent diabetic over time\n",
    "plot(run_genetic_disorder_sim(1950, 2018, 2557628654),\"*\")\n",
    "decorate(title = \"Prevalence of Diabetes Population which has Type 1 Diabetes\", xlabel = \"Year\", ylabel= \"Prevalence of Diabetes\")\n",
    "savefig('diabetic_percent.pdf')"
   ]
  },
  {
   "cell_type": "markdown",
   "metadata": {},
   "source": [
    "This model uses the global population."
   ]
  },
  {
   "cell_type": "markdown",
   "metadata": {},
   "source": [
    "### Interpretation\n",
    "Let's answer our motivating question!\n",
    "Is a genetic propagation model sufficent to explain the propagation of type 1 diabetes in the population?\n",
    "\n",
    "No.\n",
    "\n",
    "We can see this from a few sections of the graph. For one, the significant drop at the beginning of the graph demonstrates that an exclusively genetic model is insufficent to explain the increase diabetics occuring in the world today. On top of that, the percent of the population with Type 1 Diabetes increases by less than a percentage. The fact that this rate is not increasing by around 2% percent annually illustrates how inadequate the model is for modern trends."
   ]
  },
  {
   "cell_type": "code",
   "execution_count": null,
   "metadata": {},
   "outputs": [],
   "source": []
  }
 ],
 "metadata": {
  "kernelspec": {
   "display_name": "Python 3",
   "language": "python",
   "name": "python3"
  },
  "language_info": {
   "codemirror_mode": {
    "name": "ipython",
    "version": 3
   },
   "file_extension": ".py",
   "mimetype": "text/x-python",
   "name": "python",
   "nbconvert_exporter": "python",
   "pygments_lexer": "ipython3",
   "version": "3.6.6"
  }
 },
 "nbformat": 4,
 "nbformat_minor": 2
}
